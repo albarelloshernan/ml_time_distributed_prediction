{
 "cells": [
  {
   "cell_type": "markdown",
   "metadata": {},
   "source": [
    "# Time series prediction with LSTM - univariate model"
   ]
  },
  {
   "cell_type": "markdown",
   "metadata": {},
   "source": [
    "## Importing libraries"
   ]
  },
  {
   "cell_type": "code",
   "execution_count": 1,
   "metadata": {},
   "outputs": [
    {
     "name": "stderr",
     "output_type": "stream",
     "text": [
      "D:\\Archivos_programas\\Anaconda\\envs\\machine_learning\\lib\\site-packages\\pandas_datareader\\compat\\__init__.py:7: FutureWarning: pandas.util.testing is deprecated. Use the functions in the public API at pandas.testing instead.\n",
      "  from pandas.util.testing import assert_frame_equal\n"
     ]
    }
   ],
   "source": [
    "import math\n",
    "import matplotlib.pyplot   as plt\n",
    "import numpy               as np\n",
    "import pandas              as pd\n",
    "import pandas_datareader   as web\n",
    "import requests\n",
    "import sys\n",
    "import tensorflow          as tf\n",
    "\n",
    "from tensorflow                     import keras\n",
    "from tensorflow.python.keras.layers import BatchNormalization, Conv1D, Dense, Flatten, Input, LSTM, MaxPooling1D, TimeDistributed, UpSampling1D\n",
    "from tensorflow.python.keras.models import Model, Sequential\n",
    "from pathlib                        import Path\n",
    "\n",
    "from numpy                          import array\n",
    "from sklearn.preprocessing          import MinMaxScaler"
   ]
  },
  {
   "cell_type": "markdown",
   "metadata": {},
   "source": [
    "#### Graphics style"
   ]
  },
  {
   "cell_type": "code",
   "execution_count": 2,
   "metadata": {},
   "outputs": [],
   "source": [
    "plt.style.use('fivethirtyeight')"
   ]
  },
  {
   "cell_type": "markdown",
   "metadata": {},
   "source": [
    "#### App paths"
   ]
  },
  {
   "cell_type": "code",
   "execution_count": 3,
   "metadata": {},
   "outputs": [],
   "source": [
    "app_folder = Path.cwd()\n",
    "model_folder = app_folder / \"saved_model_and_weights\"\n",
    "input_folder = app_folder / \"input_files\"\n",
    "target_folder = app_folder / \"target_files\"\n",
    "resource_file = input_folder / \"datos-tipo-cambio-usd-futuro-dolar-frecuencia-diaria.csv\""
   ]
  },
  {
   "cell_type": "markdown",
   "metadata": {},
   "source": [
    "## Data download"
   ]
  },
  {
   "cell_type": "markdown",
   "metadata": {},
   "source": [
    "### Download most recent data from datos.gob.ar"
   ]
  },
  {
   "cell_type": "code",
   "execution_count": 4,
   "metadata": {},
   "outputs": [],
   "source": [
    "def download_resource():\n",
    "    url = 'https://infra.datos.gob.ar/catalog/sspm/dataset/168/distribution/168.1/download/datos-tipo-cambio-usd-futuro-dolar-frecuencia-diaria.csv'\n",
    "    myfile = requests.get(url)\n",
    "\n",
    "    with open(resource_file, 'wb') as f:\n",
    "        f.write(myfile.content)\n",
    "        \n",
    "download_resource()"
   ]
  },
  {
   "cell_type": "markdown",
   "metadata": {},
   "source": [
    "## Part 1: Forecast a univariate time series"
   ]
  },
  {
   "cell_type": "markdown",
   "metadata": {},
   "source": [
    "### Data preparation"
   ]
  },
  {
   "cell_type": "markdown",
   "metadata": {},
   "source": [
    "#### Dataframe creation"
   ]
  },
  {
   "cell_type": "code",
   "execution_count": 5,
   "metadata": {},
   "outputs": [
    {
     "data": {
      "text/html": [
       "<div>\n",
       "<style scoped>\n",
       "    .dataframe tbody tr th:only-of-type {\n",
       "        vertical-align: middle;\n",
       "    }\n",
       "\n",
       "    .dataframe tbody tr th {\n",
       "        vertical-align: top;\n",
       "    }\n",
       "\n",
       "    .dataframe thead th {\n",
       "        text-align: right;\n",
       "    }\n",
       "</style>\n",
       "<table border=\"1\" class=\"dataframe\">\n",
       "  <thead>\n",
       "    <tr style=\"text-align: right;\">\n",
       "      <th></th>\n",
       "      <th>indice_tiempo</th>\n",
       "      <th>tipo_cambio_bna_vendedor</th>\n",
       "      <th>tipo_cambio_a3500</th>\n",
       "      <th>tipo_cambio_mae</th>\n",
       "      <th>volumen_mae</th>\n",
       "      <th>tipo_cambio_implicito_en_adrs</th>\n",
       "      <th>futuro_rofex_usd1m</th>\n",
       "      <th>interes_abierto_1m</th>\n",
       "      <th>futuro_rofex_usd2m</th>\n",
       "      <th>interes_abierto_2m</th>\n",
       "      <th>futuro_rofex_usd3m</th>\n",
       "      <th>interes_abierto_3m</th>\n",
       "      <th>futuro_rofex_usd4m</th>\n",
       "      <th>interes_abierto_4m</th>\n",
       "      <th>futuro_rofex_usd5m</th>\n",
       "      <th>interes_abierto_5m</th>\n",
       "      <th>futuro_rofex_usd6m</th>\n",
       "      <th>interes_abierto_6m</th>\n",
       "    </tr>\n",
       "  </thead>\n",
       "  <tbody>\n",
       "    <tr>\n",
       "      <th>0</th>\n",
       "      <td>2002-03-05</td>\n",
       "      <td>NaN</td>\n",
       "      <td>1.9917</td>\n",
       "      <td>NaN</td>\n",
       "      <td>NaN</td>\n",
       "      <td>2.180124</td>\n",
       "      <td>NaN</td>\n",
       "      <td>NaN</td>\n",
       "      <td>NaN</td>\n",
       "      <td>NaN</td>\n",
       "      <td>NaN</td>\n",
       "      <td>NaN</td>\n",
       "      <td>NaN</td>\n",
       "      <td>NaN</td>\n",
       "      <td>NaN</td>\n",
       "      <td>NaN</td>\n",
       "      <td>NaN</td>\n",
       "      <td>NaN</td>\n",
       "    </tr>\n",
       "    <tr>\n",
       "      <th>1</th>\n",
       "      <td>2002-03-06</td>\n",
       "      <td>NaN</td>\n",
       "      <td>2.0508</td>\n",
       "      <td>NaN</td>\n",
       "      <td>NaN</td>\n",
       "      <td>2.222222</td>\n",
       "      <td>NaN</td>\n",
       "      <td>NaN</td>\n",
       "      <td>NaN</td>\n",
       "      <td>NaN</td>\n",
       "      <td>NaN</td>\n",
       "      <td>NaN</td>\n",
       "      <td>NaN</td>\n",
       "      <td>NaN</td>\n",
       "      <td>NaN</td>\n",
       "      <td>NaN</td>\n",
       "      <td>NaN</td>\n",
       "      <td>NaN</td>\n",
       "    </tr>\n",
       "    <tr>\n",
       "      <th>2</th>\n",
       "      <td>2002-03-07</td>\n",
       "      <td>NaN</td>\n",
       "      <td>2.1375</td>\n",
       "      <td>NaN</td>\n",
       "      <td>NaN</td>\n",
       "      <td>2.343949</td>\n",
       "      <td>NaN</td>\n",
       "      <td>NaN</td>\n",
       "      <td>NaN</td>\n",
       "      <td>NaN</td>\n",
       "      <td>NaN</td>\n",
       "      <td>NaN</td>\n",
       "      <td>NaN</td>\n",
       "      <td>NaN</td>\n",
       "      <td>NaN</td>\n",
       "      <td>NaN</td>\n",
       "      <td>NaN</td>\n",
       "      <td>NaN</td>\n",
       "    </tr>\n",
       "    <tr>\n",
       "      <th>3</th>\n",
       "      <td>2002-03-08</td>\n",
       "      <td>NaN</td>\n",
       "      <td>2.2033</td>\n",
       "      <td>NaN</td>\n",
       "      <td>NaN</td>\n",
       "      <td>2.227778</td>\n",
       "      <td>NaN</td>\n",
       "      <td>NaN</td>\n",
       "      <td>NaN</td>\n",
       "      <td>NaN</td>\n",
       "      <td>NaN</td>\n",
       "      <td>NaN</td>\n",
       "      <td>NaN</td>\n",
       "      <td>NaN</td>\n",
       "      <td>NaN</td>\n",
       "      <td>NaN</td>\n",
       "      <td>NaN</td>\n",
       "      <td>NaN</td>\n",
       "    </tr>\n",
       "    <tr>\n",
       "      <th>4</th>\n",
       "      <td>2002-03-09</td>\n",
       "      <td>NaN</td>\n",
       "      <td>2.2033</td>\n",
       "      <td>NaN</td>\n",
       "      <td>NaN</td>\n",
       "      <td>2.227778</td>\n",
       "      <td>NaN</td>\n",
       "      <td>NaN</td>\n",
       "      <td>NaN</td>\n",
       "      <td>NaN</td>\n",
       "      <td>NaN</td>\n",
       "      <td>NaN</td>\n",
       "      <td>NaN</td>\n",
       "      <td>NaN</td>\n",
       "      <td>NaN</td>\n",
       "      <td>NaN</td>\n",
       "      <td>NaN</td>\n",
       "      <td>NaN</td>\n",
       "    </tr>\n",
       "    <tr>\n",
       "      <th>...</th>\n",
       "      <td>...</td>\n",
       "      <td>...</td>\n",
       "      <td>...</td>\n",
       "      <td>...</td>\n",
       "      <td>...</td>\n",
       "      <td>...</td>\n",
       "      <td>...</td>\n",
       "      <td>...</td>\n",
       "      <td>...</td>\n",
       "      <td>...</td>\n",
       "      <td>...</td>\n",
       "      <td>...</td>\n",
       "      <td>...</td>\n",
       "      <td>...</td>\n",
       "      <td>...</td>\n",
       "      <td>...</td>\n",
       "      <td>...</td>\n",
       "      <td>...</td>\n",
       "    </tr>\n",
       "    <tr>\n",
       "      <th>6719</th>\n",
       "      <td>2020-07-27</td>\n",
       "      <td>75.75</td>\n",
       "      <td>72.0750</td>\n",
       "      <td>72.08</td>\n",
       "      <td>141640.0</td>\n",
       "      <td>118.167580</td>\n",
       "      <td>72.31</td>\n",
       "      <td>1668651.0</td>\n",
       "      <td>74.60</td>\n",
       "      <td>1489806.0</td>\n",
       "      <td>77.14</td>\n",
       "      <td>613129.0</td>\n",
       "      <td>79.83</td>\n",
       "      <td>307165.0</td>\n",
       "      <td>82.88</td>\n",
       "      <td>119175.0</td>\n",
       "      <td>86.20</td>\n",
       "      <td>132713.0</td>\n",
       "    </tr>\n",
       "    <tr>\n",
       "      <th>6720</th>\n",
       "      <td>2020-07-28</td>\n",
       "      <td>76.00</td>\n",
       "      <td>72.1350</td>\n",
       "      <td>72.14</td>\n",
       "      <td>75100.0</td>\n",
       "      <td>119.558101</td>\n",
       "      <td>72.31</td>\n",
       "      <td>1579939.0</td>\n",
       "      <td>74.60</td>\n",
       "      <td>1609124.0</td>\n",
       "      <td>77.13</td>\n",
       "      <td>608529.0</td>\n",
       "      <td>79.83</td>\n",
       "      <td>307759.0</td>\n",
       "      <td>82.88</td>\n",
       "      <td>115946.0</td>\n",
       "      <td>86.21</td>\n",
       "      <td>138657.0</td>\n",
       "    </tr>\n",
       "    <tr>\n",
       "      <th>6721</th>\n",
       "      <td>2020-07-29</td>\n",
       "      <td>76.00</td>\n",
       "      <td>72.1950</td>\n",
       "      <td>72.20</td>\n",
       "      <td>85150.0</td>\n",
       "      <td>118.465909</td>\n",
       "      <td>72.31</td>\n",
       "      <td>1521307.0</td>\n",
       "      <td>74.61</td>\n",
       "      <td>1690945.0</td>\n",
       "      <td>77.15</td>\n",
       "      <td>619397.0</td>\n",
       "      <td>79.85</td>\n",
       "      <td>333348.0</td>\n",
       "      <td>82.90</td>\n",
       "      <td>132868.0</td>\n",
       "      <td>86.23</td>\n",
       "      <td>150381.0</td>\n",
       "    </tr>\n",
       "    <tr>\n",
       "      <th>6722</th>\n",
       "      <td>2020-07-30</td>\n",
       "      <td>76.00</td>\n",
       "      <td>72.2550</td>\n",
       "      <td>72.26</td>\n",
       "      <td>88010.0</td>\n",
       "      <td>121.369637</td>\n",
       "      <td>72.31</td>\n",
       "      <td>1296463.0</td>\n",
       "      <td>74.60</td>\n",
       "      <td>1907247.0</td>\n",
       "      <td>77.13</td>\n",
       "      <td>660067.0</td>\n",
       "      <td>79.81</td>\n",
       "      <td>347768.0</td>\n",
       "      <td>82.85</td>\n",
       "      <td>135322.0</td>\n",
       "      <td>86.15</td>\n",
       "      <td>136319.0</td>\n",
       "    </tr>\n",
       "    <tr>\n",
       "      <th>6723</th>\n",
       "      <td>2020-07-31</td>\n",
       "      <td>76.25</td>\n",
       "      <td>72.3150</td>\n",
       "      <td>72.32</td>\n",
       "      <td>101160.0</td>\n",
       "      <td>124.458333</td>\n",
       "      <td>72.32</td>\n",
       "      <td>1296463.0</td>\n",
       "      <td>74.62</td>\n",
       "      <td>2201911.0</td>\n",
       "      <td>77.17</td>\n",
       "      <td>696669.0</td>\n",
       "      <td>79.79</td>\n",
       "      <td>374508.0</td>\n",
       "      <td>82.80</td>\n",
       "      <td>138207.0</td>\n",
       "      <td>86.05</td>\n",
       "      <td>148556.0</td>\n",
       "    </tr>\n",
       "  </tbody>\n",
       "</table>\n",
       "<p>6724 rows × 18 columns</p>\n",
       "</div>"
      ],
      "text/plain": [
       "     indice_tiempo  tipo_cambio_bna_vendedor  tipo_cambio_a3500  \\\n",
       "0       2002-03-05                       NaN             1.9917   \n",
       "1       2002-03-06                       NaN             2.0508   \n",
       "2       2002-03-07                       NaN             2.1375   \n",
       "3       2002-03-08                       NaN             2.2033   \n",
       "4       2002-03-09                       NaN             2.2033   \n",
       "...            ...                       ...                ...   \n",
       "6719    2020-07-27                     75.75            72.0750   \n",
       "6720    2020-07-28                     76.00            72.1350   \n",
       "6721    2020-07-29                     76.00            72.1950   \n",
       "6722    2020-07-30                     76.00            72.2550   \n",
       "6723    2020-07-31                     76.25            72.3150   \n",
       "\n",
       "      tipo_cambio_mae  volumen_mae  tipo_cambio_implicito_en_adrs  \\\n",
       "0                 NaN          NaN                       2.180124   \n",
       "1                 NaN          NaN                       2.222222   \n",
       "2                 NaN          NaN                       2.343949   \n",
       "3                 NaN          NaN                       2.227778   \n",
       "4                 NaN          NaN                       2.227778   \n",
       "...               ...          ...                            ...   \n",
       "6719            72.08     141640.0                     118.167580   \n",
       "6720            72.14      75100.0                     119.558101   \n",
       "6721            72.20      85150.0                     118.465909   \n",
       "6722            72.26      88010.0                     121.369637   \n",
       "6723            72.32     101160.0                     124.458333   \n",
       "\n",
       "      futuro_rofex_usd1m  interes_abierto_1m  futuro_rofex_usd2m  \\\n",
       "0                    NaN                 NaN                 NaN   \n",
       "1                    NaN                 NaN                 NaN   \n",
       "2                    NaN                 NaN                 NaN   \n",
       "3                    NaN                 NaN                 NaN   \n",
       "4                    NaN                 NaN                 NaN   \n",
       "...                  ...                 ...                 ...   \n",
       "6719               72.31           1668651.0               74.60   \n",
       "6720               72.31           1579939.0               74.60   \n",
       "6721               72.31           1521307.0               74.61   \n",
       "6722               72.31           1296463.0               74.60   \n",
       "6723               72.32           1296463.0               74.62   \n",
       "\n",
       "      interes_abierto_2m  futuro_rofex_usd3m  interes_abierto_3m  \\\n",
       "0                    NaN                 NaN                 NaN   \n",
       "1                    NaN                 NaN                 NaN   \n",
       "2                    NaN                 NaN                 NaN   \n",
       "3                    NaN                 NaN                 NaN   \n",
       "4                    NaN                 NaN                 NaN   \n",
       "...                  ...                 ...                 ...   \n",
       "6719           1489806.0               77.14            613129.0   \n",
       "6720           1609124.0               77.13            608529.0   \n",
       "6721           1690945.0               77.15            619397.0   \n",
       "6722           1907247.0               77.13            660067.0   \n",
       "6723           2201911.0               77.17            696669.0   \n",
       "\n",
       "      futuro_rofex_usd4m  interes_abierto_4m  futuro_rofex_usd5m  \\\n",
       "0                    NaN                 NaN                 NaN   \n",
       "1                    NaN                 NaN                 NaN   \n",
       "2                    NaN                 NaN                 NaN   \n",
       "3                    NaN                 NaN                 NaN   \n",
       "4                    NaN                 NaN                 NaN   \n",
       "...                  ...                 ...                 ...   \n",
       "6719               79.83            307165.0               82.88   \n",
       "6720               79.83            307759.0               82.88   \n",
       "6721               79.85            333348.0               82.90   \n",
       "6722               79.81            347768.0               82.85   \n",
       "6723               79.79            374508.0               82.80   \n",
       "\n",
       "      interes_abierto_5m  futuro_rofex_usd6m  interes_abierto_6m  \n",
       "0                    NaN                 NaN                 NaN  \n",
       "1                    NaN                 NaN                 NaN  \n",
       "2                    NaN                 NaN                 NaN  \n",
       "3                    NaN                 NaN                 NaN  \n",
       "4                    NaN                 NaN                 NaN  \n",
       "...                  ...                 ...                 ...  \n",
       "6719            119175.0               86.20            132713.0  \n",
       "6720            115946.0               86.21            138657.0  \n",
       "6721            132868.0               86.23            150381.0  \n",
       "6722            135322.0               86.15            136319.0  \n",
       "6723            138207.0               86.05            148556.0  \n",
       "\n",
       "[6724 rows x 18 columns]"
      ]
     },
     "execution_count": 5,
     "metadata": {},
     "output_type": "execute_result"
    }
   ],
   "source": [
    "df = pd.read_csv(resource_file)\n",
    "df"
   ]
  },
  {
   "cell_type": "markdown",
   "metadata": {},
   "source": [
    "#### Multivariate features parsing"
   ]
  },
  {
   "cell_type": "code",
   "execution_count": 6,
   "metadata": {},
   "outputs": [
    {
     "name": "stdout",
     "output_type": "stream",
     "text": [
      "(6724, 17)\n"
     ]
    }
   ],
   "source": [
    "features_considered = ['tipo_cambio_bna_vendedor', \n",
    "                       'tipo_cambio_a3500', \n",
    "                       'tipo_cambio_mae', \n",
    "                       'volumen_mae', \n",
    "                       'tipo_cambio_implicito_en_adrs', \n",
    "                       'futuro_rofex_usd1m', \n",
    "                       'interes_abierto_1m', \n",
    "                       'futuro_rofex_usd2m', \n",
    "                       'interes_abierto_2m', \n",
    "                       'futuro_rofex_usd3m', \n",
    "                       'interes_abierto_3m', \n",
    "                       'futuro_rofex_usd4m', \n",
    "                       'interes_abierto_4m', \n",
    "                       'futuro_rofex_usd5m', \n",
    "                       'interes_abierto_5m', \n",
    "                       'futuro_rofex_usd6m', \n",
    "                       'interes_abierto_6m']\n",
    "\n",
    "multivariate_dataframe       = df[features_considered]\n",
    "multivariate_dataframe.index = df['indice_tiempo']\n",
    "\n",
    "print(multivariate_dataframe.shape)"
   ]
  },
  {
   "cell_type": "markdown",
   "metadata": {},
   "source": [
    "#### Replace NULLS with zeroes"
   ]
  },
  {
   "cell_type": "code",
   "execution_count": 7,
   "metadata": {},
   "outputs": [
    {
     "data": {
      "text/plain": [
       "array([[0.00000e+00, 1.99170e+00, 0.00000e+00, ..., 0.00000e+00,\n",
       "        0.00000e+00, 0.00000e+00],\n",
       "       [0.00000e+00, 2.05080e+00, 0.00000e+00, ..., 0.00000e+00,\n",
       "        0.00000e+00, 0.00000e+00],\n",
       "       [0.00000e+00, 2.13750e+00, 0.00000e+00, ..., 0.00000e+00,\n",
       "        0.00000e+00, 0.00000e+00],\n",
       "       ...,\n",
       "       [7.60000e+01, 7.21950e+01, 7.22000e+01, ..., 1.32868e+05,\n",
       "        8.62300e+01, 1.50381e+05],\n",
       "       [7.60000e+01, 7.22550e+01, 7.22600e+01, ..., 1.35322e+05,\n",
       "        8.61500e+01, 1.36319e+05],\n",
       "       [7.62500e+01, 7.23150e+01, 7.23200e+01, ..., 1.38207e+05,\n",
       "        8.60500e+01, 1.48556e+05]])"
      ]
     },
     "execution_count": 7,
     "metadata": {},
     "output_type": "execute_result"
    }
   ],
   "source": [
    "np.nan_to_num(multivariate_dataframe, False)"
   ]
  },
  {
   "cell_type": "code",
   "execution_count": 8,
   "metadata": {},
   "outputs": [
    {
     "data": {
      "text/html": [
       "<div>\n",
       "<style scoped>\n",
       "    .dataframe tbody tr th:only-of-type {\n",
       "        vertical-align: middle;\n",
       "    }\n",
       "\n",
       "    .dataframe tbody tr th {\n",
       "        vertical-align: top;\n",
       "    }\n",
       "\n",
       "    .dataframe thead th {\n",
       "        text-align: right;\n",
       "    }\n",
       "</style>\n",
       "<table border=\"1\" class=\"dataframe\">\n",
       "  <thead>\n",
       "    <tr style=\"text-align: right;\">\n",
       "      <th></th>\n",
       "      <th>tipo_cambio_bna_vendedor</th>\n",
       "      <th>tipo_cambio_a3500</th>\n",
       "      <th>tipo_cambio_mae</th>\n",
       "      <th>volumen_mae</th>\n",
       "      <th>tipo_cambio_implicito_en_adrs</th>\n",
       "      <th>futuro_rofex_usd1m</th>\n",
       "      <th>interes_abierto_1m</th>\n",
       "      <th>futuro_rofex_usd2m</th>\n",
       "      <th>interes_abierto_2m</th>\n",
       "      <th>futuro_rofex_usd3m</th>\n",
       "      <th>interes_abierto_3m</th>\n",
       "      <th>futuro_rofex_usd4m</th>\n",
       "      <th>interes_abierto_4m</th>\n",
       "      <th>futuro_rofex_usd5m</th>\n",
       "      <th>interes_abierto_5m</th>\n",
       "      <th>futuro_rofex_usd6m</th>\n",
       "      <th>interes_abierto_6m</th>\n",
       "    </tr>\n",
       "    <tr>\n",
       "      <th>indice_tiempo</th>\n",
       "      <th></th>\n",
       "      <th></th>\n",
       "      <th></th>\n",
       "      <th></th>\n",
       "      <th></th>\n",
       "      <th></th>\n",
       "      <th></th>\n",
       "      <th></th>\n",
       "      <th></th>\n",
       "      <th></th>\n",
       "      <th></th>\n",
       "      <th></th>\n",
       "      <th></th>\n",
       "      <th></th>\n",
       "      <th></th>\n",
       "      <th></th>\n",
       "      <th></th>\n",
       "    </tr>\n",
       "  </thead>\n",
       "  <tbody>\n",
       "    <tr>\n",
       "      <th>2002-03-05</th>\n",
       "      <td>0.00</td>\n",
       "      <td>1.9917</td>\n",
       "      <td>0.00</td>\n",
       "      <td>0.0</td>\n",
       "      <td>2.180124</td>\n",
       "      <td>0.00</td>\n",
       "      <td>0.0</td>\n",
       "      <td>0.00</td>\n",
       "      <td>0.0</td>\n",
       "      <td>0.00</td>\n",
       "      <td>0.0</td>\n",
       "      <td>0.00</td>\n",
       "      <td>0.0</td>\n",
       "      <td>0.00</td>\n",
       "      <td>0.0</td>\n",
       "      <td>0.00</td>\n",
       "      <td>0.0</td>\n",
       "    </tr>\n",
       "    <tr>\n",
       "      <th>2002-03-06</th>\n",
       "      <td>0.00</td>\n",
       "      <td>2.0508</td>\n",
       "      <td>0.00</td>\n",
       "      <td>0.0</td>\n",
       "      <td>2.222222</td>\n",
       "      <td>0.00</td>\n",
       "      <td>0.0</td>\n",
       "      <td>0.00</td>\n",
       "      <td>0.0</td>\n",
       "      <td>0.00</td>\n",
       "      <td>0.0</td>\n",
       "      <td>0.00</td>\n",
       "      <td>0.0</td>\n",
       "      <td>0.00</td>\n",
       "      <td>0.0</td>\n",
       "      <td>0.00</td>\n",
       "      <td>0.0</td>\n",
       "    </tr>\n",
       "    <tr>\n",
       "      <th>2002-03-07</th>\n",
       "      <td>0.00</td>\n",
       "      <td>2.1375</td>\n",
       "      <td>0.00</td>\n",
       "      <td>0.0</td>\n",
       "      <td>2.343949</td>\n",
       "      <td>0.00</td>\n",
       "      <td>0.0</td>\n",
       "      <td>0.00</td>\n",
       "      <td>0.0</td>\n",
       "      <td>0.00</td>\n",
       "      <td>0.0</td>\n",
       "      <td>0.00</td>\n",
       "      <td>0.0</td>\n",
       "      <td>0.00</td>\n",
       "      <td>0.0</td>\n",
       "      <td>0.00</td>\n",
       "      <td>0.0</td>\n",
       "    </tr>\n",
       "    <tr>\n",
       "      <th>2002-03-08</th>\n",
       "      <td>0.00</td>\n",
       "      <td>2.2033</td>\n",
       "      <td>0.00</td>\n",
       "      <td>0.0</td>\n",
       "      <td>2.227778</td>\n",
       "      <td>0.00</td>\n",
       "      <td>0.0</td>\n",
       "      <td>0.00</td>\n",
       "      <td>0.0</td>\n",
       "      <td>0.00</td>\n",
       "      <td>0.0</td>\n",
       "      <td>0.00</td>\n",
       "      <td>0.0</td>\n",
       "      <td>0.00</td>\n",
       "      <td>0.0</td>\n",
       "      <td>0.00</td>\n",
       "      <td>0.0</td>\n",
       "    </tr>\n",
       "    <tr>\n",
       "      <th>2002-03-09</th>\n",
       "      <td>0.00</td>\n",
       "      <td>2.2033</td>\n",
       "      <td>0.00</td>\n",
       "      <td>0.0</td>\n",
       "      <td>2.227778</td>\n",
       "      <td>0.00</td>\n",
       "      <td>0.0</td>\n",
       "      <td>0.00</td>\n",
       "      <td>0.0</td>\n",
       "      <td>0.00</td>\n",
       "      <td>0.0</td>\n",
       "      <td>0.00</td>\n",
       "      <td>0.0</td>\n",
       "      <td>0.00</td>\n",
       "      <td>0.0</td>\n",
       "      <td>0.00</td>\n",
       "      <td>0.0</td>\n",
       "    </tr>\n",
       "    <tr>\n",
       "      <th>...</th>\n",
       "      <td>...</td>\n",
       "      <td>...</td>\n",
       "      <td>...</td>\n",
       "      <td>...</td>\n",
       "      <td>...</td>\n",
       "      <td>...</td>\n",
       "      <td>...</td>\n",
       "      <td>...</td>\n",
       "      <td>...</td>\n",
       "      <td>...</td>\n",
       "      <td>...</td>\n",
       "      <td>...</td>\n",
       "      <td>...</td>\n",
       "      <td>...</td>\n",
       "      <td>...</td>\n",
       "      <td>...</td>\n",
       "      <td>...</td>\n",
       "    </tr>\n",
       "    <tr>\n",
       "      <th>2020-07-27</th>\n",
       "      <td>75.75</td>\n",
       "      <td>72.0750</td>\n",
       "      <td>72.08</td>\n",
       "      <td>141640.0</td>\n",
       "      <td>118.167580</td>\n",
       "      <td>72.31</td>\n",
       "      <td>1668651.0</td>\n",
       "      <td>74.60</td>\n",
       "      <td>1489806.0</td>\n",
       "      <td>77.14</td>\n",
       "      <td>613129.0</td>\n",
       "      <td>79.83</td>\n",
       "      <td>307165.0</td>\n",
       "      <td>82.88</td>\n",
       "      <td>119175.0</td>\n",
       "      <td>86.20</td>\n",
       "      <td>132713.0</td>\n",
       "    </tr>\n",
       "    <tr>\n",
       "      <th>2020-07-28</th>\n",
       "      <td>76.00</td>\n",
       "      <td>72.1350</td>\n",
       "      <td>72.14</td>\n",
       "      <td>75100.0</td>\n",
       "      <td>119.558101</td>\n",
       "      <td>72.31</td>\n",
       "      <td>1579939.0</td>\n",
       "      <td>74.60</td>\n",
       "      <td>1609124.0</td>\n",
       "      <td>77.13</td>\n",
       "      <td>608529.0</td>\n",
       "      <td>79.83</td>\n",
       "      <td>307759.0</td>\n",
       "      <td>82.88</td>\n",
       "      <td>115946.0</td>\n",
       "      <td>86.21</td>\n",
       "      <td>138657.0</td>\n",
       "    </tr>\n",
       "    <tr>\n",
       "      <th>2020-07-29</th>\n",
       "      <td>76.00</td>\n",
       "      <td>72.1950</td>\n",
       "      <td>72.20</td>\n",
       "      <td>85150.0</td>\n",
       "      <td>118.465909</td>\n",
       "      <td>72.31</td>\n",
       "      <td>1521307.0</td>\n",
       "      <td>74.61</td>\n",
       "      <td>1690945.0</td>\n",
       "      <td>77.15</td>\n",
       "      <td>619397.0</td>\n",
       "      <td>79.85</td>\n",
       "      <td>333348.0</td>\n",
       "      <td>82.90</td>\n",
       "      <td>132868.0</td>\n",
       "      <td>86.23</td>\n",
       "      <td>150381.0</td>\n",
       "    </tr>\n",
       "    <tr>\n",
       "      <th>2020-07-30</th>\n",
       "      <td>76.00</td>\n",
       "      <td>72.2550</td>\n",
       "      <td>72.26</td>\n",
       "      <td>88010.0</td>\n",
       "      <td>121.369637</td>\n",
       "      <td>72.31</td>\n",
       "      <td>1296463.0</td>\n",
       "      <td>74.60</td>\n",
       "      <td>1907247.0</td>\n",
       "      <td>77.13</td>\n",
       "      <td>660067.0</td>\n",
       "      <td>79.81</td>\n",
       "      <td>347768.0</td>\n",
       "      <td>82.85</td>\n",
       "      <td>135322.0</td>\n",
       "      <td>86.15</td>\n",
       "      <td>136319.0</td>\n",
       "    </tr>\n",
       "    <tr>\n",
       "      <th>2020-07-31</th>\n",
       "      <td>76.25</td>\n",
       "      <td>72.3150</td>\n",
       "      <td>72.32</td>\n",
       "      <td>101160.0</td>\n",
       "      <td>124.458333</td>\n",
       "      <td>72.32</td>\n",
       "      <td>1296463.0</td>\n",
       "      <td>74.62</td>\n",
       "      <td>2201911.0</td>\n",
       "      <td>77.17</td>\n",
       "      <td>696669.0</td>\n",
       "      <td>79.79</td>\n",
       "      <td>374508.0</td>\n",
       "      <td>82.80</td>\n",
       "      <td>138207.0</td>\n",
       "      <td>86.05</td>\n",
       "      <td>148556.0</td>\n",
       "    </tr>\n",
       "  </tbody>\n",
       "</table>\n",
       "<p>6724 rows × 17 columns</p>\n",
       "</div>"
      ],
      "text/plain": [
       "               tipo_cambio_bna_vendedor  tipo_cambio_a3500  tipo_cambio_mae  \\\n",
       "indice_tiempo                                                                 \n",
       "2002-03-05                         0.00             1.9917             0.00   \n",
       "2002-03-06                         0.00             2.0508             0.00   \n",
       "2002-03-07                         0.00             2.1375             0.00   \n",
       "2002-03-08                         0.00             2.2033             0.00   \n",
       "2002-03-09                         0.00             2.2033             0.00   \n",
       "...                                 ...                ...              ...   \n",
       "2020-07-27                        75.75            72.0750            72.08   \n",
       "2020-07-28                        76.00            72.1350            72.14   \n",
       "2020-07-29                        76.00            72.1950            72.20   \n",
       "2020-07-30                        76.00            72.2550            72.26   \n",
       "2020-07-31                        76.25            72.3150            72.32   \n",
       "\n",
       "               volumen_mae  tipo_cambio_implicito_en_adrs  futuro_rofex_usd1m  \\\n",
       "indice_tiempo                                                                   \n",
       "2002-03-05             0.0                       2.180124                0.00   \n",
       "2002-03-06             0.0                       2.222222                0.00   \n",
       "2002-03-07             0.0                       2.343949                0.00   \n",
       "2002-03-08             0.0                       2.227778                0.00   \n",
       "2002-03-09             0.0                       2.227778                0.00   \n",
       "...                    ...                            ...                 ...   \n",
       "2020-07-27        141640.0                     118.167580               72.31   \n",
       "2020-07-28         75100.0                     119.558101               72.31   \n",
       "2020-07-29         85150.0                     118.465909               72.31   \n",
       "2020-07-30         88010.0                     121.369637               72.31   \n",
       "2020-07-31        101160.0                     124.458333               72.32   \n",
       "\n",
       "               interes_abierto_1m  futuro_rofex_usd2m  interes_abierto_2m  \\\n",
       "indice_tiempo                                                               \n",
       "2002-03-05                    0.0                0.00                 0.0   \n",
       "2002-03-06                    0.0                0.00                 0.0   \n",
       "2002-03-07                    0.0                0.00                 0.0   \n",
       "2002-03-08                    0.0                0.00                 0.0   \n",
       "2002-03-09                    0.0                0.00                 0.0   \n",
       "...                           ...                 ...                 ...   \n",
       "2020-07-27              1668651.0               74.60           1489806.0   \n",
       "2020-07-28              1579939.0               74.60           1609124.0   \n",
       "2020-07-29              1521307.0               74.61           1690945.0   \n",
       "2020-07-30              1296463.0               74.60           1907247.0   \n",
       "2020-07-31              1296463.0               74.62           2201911.0   \n",
       "\n",
       "               futuro_rofex_usd3m  interes_abierto_3m  futuro_rofex_usd4m  \\\n",
       "indice_tiempo                                                               \n",
       "2002-03-05                   0.00                 0.0                0.00   \n",
       "2002-03-06                   0.00                 0.0                0.00   \n",
       "2002-03-07                   0.00                 0.0                0.00   \n",
       "2002-03-08                   0.00                 0.0                0.00   \n",
       "2002-03-09                   0.00                 0.0                0.00   \n",
       "...                           ...                 ...                 ...   \n",
       "2020-07-27                  77.14            613129.0               79.83   \n",
       "2020-07-28                  77.13            608529.0               79.83   \n",
       "2020-07-29                  77.15            619397.0               79.85   \n",
       "2020-07-30                  77.13            660067.0               79.81   \n",
       "2020-07-31                  77.17            696669.0               79.79   \n",
       "\n",
       "               interes_abierto_4m  futuro_rofex_usd5m  interes_abierto_5m  \\\n",
       "indice_tiempo                                                               \n",
       "2002-03-05                    0.0                0.00                 0.0   \n",
       "2002-03-06                    0.0                0.00                 0.0   \n",
       "2002-03-07                    0.0                0.00                 0.0   \n",
       "2002-03-08                    0.0                0.00                 0.0   \n",
       "2002-03-09                    0.0                0.00                 0.0   \n",
       "...                           ...                 ...                 ...   \n",
       "2020-07-27               307165.0               82.88            119175.0   \n",
       "2020-07-28               307759.0               82.88            115946.0   \n",
       "2020-07-29               333348.0               82.90            132868.0   \n",
       "2020-07-30               347768.0               82.85            135322.0   \n",
       "2020-07-31               374508.0               82.80            138207.0   \n",
       "\n",
       "               futuro_rofex_usd6m  interes_abierto_6m  \n",
       "indice_tiempo                                          \n",
       "2002-03-05                   0.00                 0.0  \n",
       "2002-03-06                   0.00                 0.0  \n",
       "2002-03-07                   0.00                 0.0  \n",
       "2002-03-08                   0.00                 0.0  \n",
       "2002-03-09                   0.00                 0.0  \n",
       "...                           ...                 ...  \n",
       "2020-07-27                  86.20            132713.0  \n",
       "2020-07-28                  86.21            138657.0  \n",
       "2020-07-29                  86.23            150381.0  \n",
       "2020-07-30                  86.15            136319.0  \n",
       "2020-07-31                  86.05            148556.0  \n",
       "\n",
       "[6724 rows x 17 columns]"
      ]
     },
     "execution_count": 8,
     "metadata": {},
     "output_type": "execute_result"
    }
   ],
   "source": [
    "multivariate_dataframe"
   ]
  },
  {
   "cell_type": "markdown",
   "metadata": {},
   "source": [
    "#### Selecting univariate feature"
   ]
  },
  {
   "cell_type": "code",
   "execution_count": 9,
   "metadata": {},
   "outputs": [
    {
     "name": "stdout",
     "output_type": "stream",
     "text": [
      "(6724,)\n"
     ]
    }
   ],
   "source": [
    "univariate_dataframe = multivariate_dataframe['tipo_cambio_a3500']\n",
    "print(univariate_dataframe.shape)"
   ]
  },
  {
   "cell_type": "code",
   "execution_count": 10,
   "metadata": {},
   "outputs": [
    {
     "data": {
      "text/plain": [
       "array([<matplotlib.axes._subplots.AxesSubplot object at 0x0000017014956888>],\n",
       "      dtype=object)"
      ]
     },
     "execution_count": 10,
     "metadata": {},
     "output_type": "execute_result"
    },
    {
     "data": {
      "image/png": "[encoded data removed]",
      "text/plain": [
       "<Figure size 1152x576 with 1 Axes>"
      ]
     },
     "metadata": {},
     "output_type": "display_data"
    }
   ],
   "source": [
    "plt.figure(figsize=(16,8))\n",
    "plt.title('Price History')\n",
    "plt.xlabel('Date', fontsize=18)\n",
    "plt.ylabel('Price USD (AR$)', fontsize=18)\n",
    "\n",
    "univariate_dataframe.plot(subplots=True)"
   ]
  },
  {
   "cell_type": "code",
   "execution_count": 11,
   "metadata": {},
   "outputs": [],
   "source": [
    "univariate_dataset = univariate_dataframe.values"
   ]
  },
  {
   "cell_type": "markdown",
   "metadata": {},
   "source": [
    "### Data normalization"
   ]
  },
  {
   "cell_type": "code",
   "execution_count": 12,
   "metadata": {},
   "outputs": [],
   "source": [
    "univariate_dataset = tf.expand_dims(univariate_dataset, 1)"
   ]
  },
  {
   "cell_type": "markdown",
   "metadata": {},
   "source": [
    "#### Fit transform"
   ]
  },
  {
   "cell_type": "code",
   "execution_count": 13,
   "metadata": {},
   "outputs": [
    {
     "data": {
      "text/plain": [
       "MinMaxScaler(copy=True, feature_range=(0, 1))"
      ]
     },
     "execution_count": 13,
     "metadata": {},
     "output_type": "execute_result"
    }
   ],
   "source": [
    "transformer = MinMaxScaler()\n",
    "transformer.fit(univariate_dataset)"
   ]
  },
  {
   "cell_type": "markdown",
   "metadata": {},
   "source": [
    "#### Difference transform"
   ]
  },
  {
   "cell_type": "code",
   "execution_count": 14,
   "metadata": {},
   "outputs": [
    {
     "name": "stdout",
     "output_type": "stream",
     "text": [
      "[[0.00000000e+00]\n",
      " [8.40404247e-04]\n",
      " [2.07328154e-03]\n",
      " ...\n",
      " [9.98293595e-01]\n",
      " [9.99146798e-01]\n",
      " [1.00000000e+00]]\n"
     ]
    }
   ],
   "source": [
    "transformed = transformer.transform(univariate_dataset)\n",
    "print(transformed)"
   ]
  },
  {
   "cell_type": "code",
   "execution_count": 15,
   "metadata": {},
   "outputs": [
    {
     "name": "stdout",
     "output_type": "stream",
     "text": [
      "(6724, 1)\n"
     ]
    }
   ],
   "source": [
    "print(transformed.shape)"
   ]
  },
  {
   "cell_type": "markdown",
   "metadata": {},
   "source": [
    "### Generating training and validation arrays"
   ]
  },
  {
   "cell_type": "code",
   "execution_count": 16,
   "metadata": {},
   "outputs": [],
   "source": [
    "TRAIN_SPLIT = math.ceil( len(univariate_dataset) * 0.95 )"
   ]
  },
  {
   "cell_type": "code",
   "execution_count": 17,
   "metadata": {},
   "outputs": [],
   "source": [
    "def univariate_data(dataset, start_index, end_index, history_size, target_size):\n",
    "    data, labels = [], []\n",
    "    \n",
    "    start_index = start_index + history_size\n",
    "    \n",
    "    if end_index is None:\n",
    "        end_index = len(dataset) - target_size\n",
    "    \n",
    "    for i in range(start_index, end_index):\n",
    "        end_idx = range(i - history_size, i)\n",
    "        \n",
    "        # Gather input and output parts of the pattern\n",
    "        seq_data, seq_labels = dataset[end_idx].reshape((history_size, 1)), dataset[i+target_size]\n",
    "                \n",
    "        data.append(seq_data)\n",
    "        labels.append(seq_labels)\n",
    "                        \n",
    "    return np.array(data), np.array(labels)"
   ]
  },
  {
   "cell_type": "code",
   "execution_count": 18,
   "metadata": {},
   "outputs": [],
   "source": [
    "univariate_past_history = 30\n",
    "univariate_future_target = 1\n",
    "\n",
    "x_train_uni, y_train_uni = univariate_data(transformed, 0, TRAIN_SPLIT, univariate_past_history, univariate_future_target)\n",
    "x_val_uni, y_val_uni = univariate_data(transformed, TRAIN_SPLIT, None, univariate_past_history, univariate_future_target)"
   ]
  },
  {
   "cell_type": "code",
   "execution_count": 19,
   "metadata": {},
   "outputs": [],
   "source": [
    "BATCH_SIZE          = len(x_train_uni)\n",
    "BUFFER_SIZE         = len(univariate_dataset)\n",
    "ENCODING_DIM        = x_train_uni.shape[2]\n",
    "EPOCHS              = 500\n",
    "EVALUATION_INTERVAL = 30\n",
    "TIME_STEPS          = x_train_uni.shape[1]\n",
    "VALIDATION_STEPS    = x_train_uni.shape[1]\n",
    "WINDOW_LENGTH       = x_train_uni.shape[1]"
   ]
  },
  {
   "cell_type": "code",
   "execution_count": 20,
   "metadata": {},
   "outputs": [
    {
     "name": "stdout",
     "output_type": "stream",
     "text": [
      "Train dataset\n",
      "(6358, 30, 1)\n",
      "(6358, 1)\n",
      "\n",
      "Validation dataset\n",
      "(305, 30, 1)\n",
      "(305, 1)\n"
     ]
    }
   ],
   "source": [
    "print ('Train dataset')\n",
    "print (x_train_uni.shape)\n",
    "print (y_train_uni.shape)\n",
    "print ('\\nValidation dataset')\n",
    "print (x_val_uni.shape)\n",
    "print (y_val_uni.shape)"
   ]
  },
  {
   "cell_type": "markdown",
   "metadata": {},
   "source": [
    "##### Data format:\n",
    "\n",
    "    (batch_size, time_steps, features)\n",
    "\n",
    "##### Organization of data:\n",
    "    \n",
    "    Train dataset      --> (6358, 30, 1) ==> 6358 days samples every 30 days vector of 1 feature.\n",
    "                            Range of years between 2002 and 2019.\n",
    "    \n",
    "    Validation dataset --> (305, 30, 1) ==> 305 days samples every 30 days vector of 1 feature.\n",
    "                            From begining of 2020 to the present.\n",
    "    "
   ]
  },
  {
   "cell_type": "code",
   "execution_count": 21,
   "metadata": {},
   "outputs": [
    {
     "name": "stdout",
     "output_type": "stream",
     "text": [
      "Single window of past history\n",
      "[[0.        ]\n",
      " [0.0008404 ]\n",
      " [0.00207328]\n",
      " [0.00300896]\n",
      " [0.00300896]\n",
      " [0.00300896]\n",
      " [0.00370859]\n",
      " [0.00530834]\n",
      " [0.00483481]\n",
      " [0.00530834]\n",
      " [0.00496422]\n",
      " [0.00496422]\n",
      " [0.00496422]\n",
      " [0.00463289]\n",
      " [0.00549747]\n",
      " [0.00626108]\n",
      " [0.00563967]\n",
      " [0.00819927]\n",
      " [0.00819927]\n",
      " [0.00819927]\n",
      " [0.01725317]\n",
      " [0.01422004]\n",
      " [0.01222923]\n",
      " [0.01222923]\n",
      " [0.01222923]\n",
      " [0.01222923]\n",
      " [0.01222923]\n",
      " [0.01222923]\n",
      " [0.01273831]\n",
      " [0.01296299]]\n",
      "\n",
      " Target to predict\n",
      "[0.00969238]\n"
     ]
    }
   ],
   "source": [
    "print ('Single window of past history')\n",
    "print (x_train_uni[0])\n",
    "print ('\\n Target to predict')\n",
    "print (y_train_uni[0])"
   ]
  },
  {
   "cell_type": "markdown",
   "metadata": {},
   "source": [
    "### Preprocessing preparation of the train and test sequences as tensor slices"
   ]
  },
  {
   "cell_type": "code",
   "execution_count": 22,
   "metadata": {},
   "outputs": [
    {
     "data": {
      "text/plain": [
       "(TensorShape([None, 30, 1, 1]), TensorShape([None, 1]))"
      ]
     },
     "execution_count": 22,
     "metadata": {},
     "output_type": "execute_result"
    }
   ],
   "source": [
    "x_train_uni_xd = tf.expand_dims(x_train_uni, 3)\n",
    "x_val_uni_xd = tf.expand_dims(x_val_uni, 3)\n",
    "\n",
    "train_univariate = tf.data.Dataset.from_tensor_slices((x_train_uni_xd, y_train_uni))\n",
    "train_univariate = train_univariate.cache().shuffle(BUFFER_SIZE).batch(BATCH_SIZE).repeat()\n",
    "val_univariate = tf.data.Dataset.from_tensor_slices((x_val_uni_xd, y_val_uni))\n",
    "val_univariate = val_univariate.batch(BATCH_SIZE).repeat()\n",
    "\n",
    "tf.compat.v1.data.get_output_shapes(train_univariate)\n",
    "tf.compat.v1.data.get_output_shapes(val_univariate)"
   ]
  },
  {
   "cell_type": "markdown",
   "metadata": {},
   "source": [
    "### Model definition"
   ]
  },
  {
   "cell_type": "code",
   "execution_count": 23,
   "metadata": {},
   "outputs": [],
   "source": [
    "tf.random.set_seed(13)"
   ]
  },
  {
   "cell_type": "code",
   "execution_count": 24,
   "metadata": {},
   "outputs": [],
   "source": [
    "def time_distributed_lstm():\n",
    "    \n",
    "    model = Sequential()\n",
    "    \n",
    "    model.add(TimeDistributed(Conv1D(filters=128, \n",
    "                             kernel_size=1, \n",
    "                             kernel_regularizer=keras.regularizers.l2(0.0001), \n",
    "                             bias_regularizer=keras.regularizers.l2(0.0001), \n",
    "                             activation='relu'), \n",
    "                             input_shape=(x_train_uni_xd.shape[1:])))\n",
    "    model.add(TimeDistributed(MaxPooling1D(pool_size=1)))\n",
    "    model.add(TimeDistributed(Flatten()))\n",
    "    model.add(LSTM(64, \n",
    "                   kernel_regularizer=keras.regularizers.l2(0.0001), \n",
    "                   recurrent_regularizer=keras.regularizers.l2(0.0001), \n",
    "                   bias_regularizer=keras.regularizers.l2(0.0001), \n",
    "                   activation='relu', \n",
    "                   return_sequences=True))\n",
    "    model.add(LSTM(64, \n",
    "                   return_sequences=False))\n",
    "    model.add((Dense(64)))\n",
    "    model.add((Dense(1)))\n",
    "\n",
    "    model.compile(optimizer='adam', loss='mse', metrics=['accuracy'])\n",
    "    \n",
    "    return model"
   ]
  },
  {
   "cell_type": "code",
   "execution_count": 25,
   "metadata": {
    "scrolled": true
   },
   "outputs": [],
   "source": [
    "univariate_ts_model = time_distributed_lstm()"
   ]
  },
  {
   "cell_type": "code",
   "execution_count": 26,
   "metadata": {
    "scrolled": false
   },
   "outputs": [
    {
     "name": "stdout",
     "output_type": "stream",
     "text": [
      "Model: \"sequential\"\n",
      "________________________________________________________________________________________________________________________\n",
      "Layer (type)                                          Output Shape                                    Param #           \n",
      "========================================================================================================================\n",
      "time_distributed (TimeDistributed)                    (None, 30, 1, 128)                              256               \n",
      "________________________________________________________________________________________________________________________\n",
      "time_distributed_1 (TimeDistributed)                  (None, 30, 1, 128)                              0                 \n",
      "________________________________________________________________________________________________________________________\n",
      "time_distributed_2 (TimeDistributed)                  (None, 30, 128)                                 0                 \n",
      "________________________________________________________________________________________________________________________\n",
      "lstm (LSTM)                                           (None, 30, 64)                                  49408             \n",
      "________________________________________________________________________________________________________________________\n",
      "lstm_1 (LSTM)                                         (None, 64)                                      33024             \n",
      "________________________________________________________________________________________________________________________\n",
      "dense (Dense)                                         (None, 64)                                      4160              \n",
      "________________________________________________________________________________________________________________________\n",
      "dense_1 (Dense)                                       (None, 1)                                       65                \n",
      "========================================================================================================================\n",
      "Total params: 86,913\n",
      "Trainable params: 86,913\n",
      "Non-trainable params: 0\n",
      "________________________________________________________________________________________________________________________\n"
     ]
    }
   ],
   "source": [
    "univariate_ts_model.summary(line_length=120)"
   ]
  },
  {
   "cell_type": "markdown",
   "metadata": {},
   "source": [
    "### Load model"
   ]
  },
  {
   "cell_type": "markdown",
   "metadata": {},
   "source": [
    "#### We can load the weights of the previous trainings to avoid spending a considerable amount of time on re-training the model in future executions."
   ]
  },
  {
   "cell_type": "code",
   "execution_count": 27,
   "metadata": {},
   "outputs": [],
   "source": [
    "#univariate_ts_model.load_weights(\"time_distributed_lstm_model_weights.h5\")"
   ]
  },
  {
   "cell_type": "markdown",
   "metadata": {},
   "source": [
    "### Model training"
   ]
  },
  {
   "cell_type": "markdown",
   "metadata": {},
   "source": [
    "##### The patience parameter is the amount of epochs to check for improvement"
   ]
  },
  {
   "cell_type": "code",
   "execution_count": 28,
   "metadata": {
    "collapsed": true
   },
   "outputs": [
    {
     "name": "stdout",
     "output_type": "stream",
     "text": [
      "Train for 30 steps, validate for 30 steps\n",
      "Epoch 1/500\n",
      "30/30 [==============================] - 121s 4s/step - loss: 0.0277 - accuracy: 0.0000e+00 - val_loss: 0.0190 - val_accuracy: 0.0033\n",
      "Epoch 2/500\n",
      "30/30 [==============================] - 103s 3s/step - loss: 0.0152 - accuracy: 0.0000e+00 - val_loss: 0.0129 - val_accuracy: 0.0033\n",
      "Epoch 3/500\n",
      "30/30 [==============================] - 106s 4s/step - loss: 0.0103 - accuracy: 0.0000e+00 - val_loss: 0.0088 - val_accuracy: 0.0033\n",
      "Epoch 4/500\n",
      "30/30 [==============================] - 105s 3s/step - loss: 0.0079 - accuracy: 0.0000e+00 - val_loss: 0.0072 - val_accuracy: 0.0033\n",
      "Epoch 5/500\n",
      "30/30 [==============================] - 104s 3s/step - loss: 0.0066 - accuracy: 0.0000e+00 - val_loss: 0.0062 - val_accuracy: 0.0033\n",
      "Epoch 6/500\n",
      "30/30 [==============================] - 105s 3s/step - loss: 0.0058 - accuracy: 0.0000e+00 - val_loss: 0.0056 - val_accuracy: 0.0033\n",
      "Epoch 7/500\n",
      "30/30 [==============================] - 109s 4s/step - loss: 0.0053 - accuracy: 0.0000e+00 - val_loss: 0.0051 - val_accuracy: 0.0033\n",
      "Epoch 8/500\n",
      "30/30 [==============================] - 119s 4s/step - loss: 0.0049 - accuracy: 0.0000e+00 - val_loss: 0.0047 - val_accuracy: 0.0033\n",
      "Epoch 9/500\n",
      "30/30 [==============================] - 112s 4s/step - loss: 0.0045 - accuracy: 0.0000e+00 - val_loss: 0.0044 - val_accuracy: 0.0033\n",
      "Epoch 10/500\n",
      "30/30 [==============================] - 110s 4s/step - loss: 0.0041 - accuracy: 0.0000e+00 - val_loss: 0.0041 - val_accuracy: 0.0033\n",
      "Epoch 11/500\n",
      "30/30 [==============================] - 111s 4s/step - loss: 0.0038 - accuracy: 0.0000e+00 - val_loss: 0.0038 - val_accuracy: 0.0033\n",
      "Epoch 12/500\n",
      "30/30 [==============================] - 110s 4s/step - loss: 0.0035 - accuracy: 0.0000e+00 - val_loss: 0.0035 - val_accuracy: 0.0033\n",
      "Epoch 13/500\n",
      "30/30 [==============================] - 111s 4s/step - loss: 0.0033 - accuracy: 0.0000e+00 - val_loss: 0.0033 - val_accuracy: 0.0033\n",
      "Epoch 14/500\n",
      "30/30 [==============================] - 107s 4s/step - loss: 0.0030 - accuracy: 0.0000e+00 - val_loss: 0.0031 - val_accuracy: 0.0033\n",
      "Epoch 15/500\n",
      "30/30 [==============================] - 108s 4s/step - loss: 0.0028 - accuracy: 0.0000e+00 - val_loss: 0.0028 - val_accuracy: 0.0033\n",
      "Epoch 16/500\n",
      "30/30 [==============================] - 108s 4s/step - loss: 0.0026 - accuracy: 0.0000e+00 - val_loss: 0.0027 - val_accuracy: 0.0033\n",
      "Epoch 17/500\n",
      "30/30 [==============================] - 111s 4s/step - loss: 0.0024 - accuracy: 0.0000e+00 - val_loss: 0.0027 - val_accuracy: 0.0033\n",
      "Epoch 18/500\n",
      "30/30 [==============================] - 109s 4s/step - loss: 0.0022 - accuracy: 0.0000e+00 - val_loss: 0.0024 - val_accuracy: 0.0033\n",
      "Epoch 19/500\n",
      "30/30 [==============================] - 113s 4s/step - loss: 0.0020 - accuracy: 0.0000e+00 - val_loss: 0.0021 - val_accuracy: 0.0033\n",
      "Epoch 20/500\n",
      "30/30 [==============================] - 107s 4s/step - loss: 0.0019 - accuracy: 0.0000e+00 - val_loss: 0.0021 - val_accuracy: 0.0033\n",
      "Epoch 21/500\n",
      "30/30 [==============================] - 108s 4s/step - loss: 0.0017 - accuracy: 0.0000e+00 - val_loss: 0.0020 - val_accuracy: 0.0033\n",
      "Epoch 22/500\n",
      "30/30 [==============================] - 108s 4s/step - loss: 0.0016 - accuracy: 0.0000e+00 - val_loss: 0.0017 - val_accuracy: 0.0033\n",
      "Epoch 23/500\n",
      "30/30 [==============================] - 104s 3s/step - loss: 0.0015 - accuracy: 0.0000e+00 - val_loss: 0.0015 - val_accuracy: 0.0033\n",
      "Epoch 24/500\n",
      "30/30 [==============================] - 112s 4s/step - loss: 0.0013 - accuracy: 0.0000e+00 - val_loss: 0.0015 - val_accuracy: 0.0033\n",
      "Epoch 25/500\n",
      "30/30 [==============================] - 107s 4s/step - loss: 0.0012 - accuracy: 0.0000e+00 - val_loss: 0.0012 - val_accuracy: 0.0033\n",
      "Epoch 26/500\n",
      "30/30 [==============================] - 107s 4s/step - loss: 0.0011 - accuracy: 0.0000e+00 - val_loss: 0.0014 - val_accuracy: 0.0033\n",
      "Epoch 27/500\n",
      "30/30 [==============================] - 106s 4s/step - loss: 0.0010 - accuracy: 0.0000e+00 - val_loss: 0.0013 - val_accuracy: 0.0033\n",
      "Epoch 28/500\n",
      "30/30 [==============================] - 106s 4s/step - loss: 9.5561e-04 - accuracy: 0.0000e+00 - val_loss: 0.0018 - val_accuracy: 0.0033\n",
      "Epoch 29/500\n",
      "30/30 [==============================] - 105s 3s/step - loss: 8.7025e-04 - accuracy: 0.0000e+00 - val_loss: 0.0010 - val_accuracy: 0.0033\n",
      "Epoch 30/500\n",
      "30/30 [==============================] - 107s 4s/step - loss: 7.9144e-04 - accuracy: 0.0000e+00 - val_loss: 0.0010 - val_accuracy: 0.0033\n",
      "Epoch 31/500\n",
      "30/30 [==============================] - 108s 4s/step - loss: 7.3823e-04 - accuracy: 0.0000e+00 - val_loss: 7.3442e-04 - val_accuracy: 0.0033\n",
      "Epoch 32/500\n",
      "30/30 [==============================] - 104s 3s/step - loss: 6.6352e-04 - accuracy: 0.0000e+00 - val_loss: 8.9516e-04 - val_accuracy: 0.0033\n",
      "Epoch 33/500\n",
      "30/30 [==============================] - 107s 4s/step - loss: 6.0272e-04 - accuracy: 0.0000e+00 - val_loss: 7.7289e-04 - val_accuracy: 0.0033\n",
      "Epoch 34/500\n",
      "30/30 [==============================] - 106s 4s/step - loss: 5.6782e-04 - accuracy: 0.0000e+00 - val_loss: 0.0011 - val_accuracy: 0.0033\n",
      "Epoch 35/500\n",
      "30/30 [==============================] - 105s 3s/step - loss: 5.0422e-04 - accuracy: 0.0000e+00 - val_loss: 7.4890e-04 - val_accuracy: 0.0033\n",
      "Epoch 36/500\n",
      "30/30 [==============================] - 108s 4s/step - loss: 4.5745e-04 - accuracy: 0.0000e+00 - val_loss: 8.7173e-04 - val_accuracy: 0.0033\n",
      "Epoch 37/500\n",
      "30/30 [==============================] - 103s 3s/step - loss: 4.4211e-04 - accuracy: 0.0000e+00 - val_loss: 5.8120e-04 - val_accuracy: 0.0033\n",
      "Epoch 38/500\n",
      "30/30 [==============================] - 103s 3s/step - loss: 3.8165e-04 - accuracy: 0.0000e+00 - val_loss: 5.2020e-04 - val_accuracy: 0.0033\n",
      "Epoch 39/500\n",
      "30/30 [==============================] - 105s 3s/step - loss: 3.4668e-04 - accuracy: 0.0000e+00 - val_loss: 5.7016e-04 - val_accuracy: 0.0033\n",
      "Epoch 40/500\n",
      "30/30 [==============================] - 104s 3s/step - loss: 3.3189e-04 - accuracy: 0.0000e+00 - val_loss: 4.7081e-04 - val_accuracy: 0.0033\n",
      "Epoch 41/500\n",
      "30/30 [==============================] - 104s 3s/step - loss: 2.9159e-04 - accuracy: 0.0000e+00 - val_loss: 6.6561e-04 - val_accuracy: 0.0033\n",
      "Epoch 42/500\n",
      "30/30 [==============================] - 104s 3s/step - loss: 2.7199e-04 - accuracy: 0.0000e+00 - val_loss: 4.4288e-04 - val_accuracy: 0.0033\n",
      "Epoch 43/500\n",
      "30/30 [==============================] - 103s 3s/step - loss: 2.5550e-04 - accuracy: 0.0000e+00 - val_loss: 7.4632e-04 - val_accuracy: 0.0033\n",
      "Epoch 44/500\n",
      "30/30 [==============================] - 104s 3s/step - loss: 2.2548e-04 - accuracy: 0.0000e+00 - val_loss: 3.4415e-04 - val_accuracy: 0.0033\n",
      "Epoch 45/500\n",
      "30/30 [==============================] - 103s 3s/step - loss: 2.1885e-04 - accuracy: 0.0000e+00 - val_loss: 5.3157e-04 - val_accuracy: 0.0033\n",
      "Epoch 46/500\n",
      "30/30 [==============================] - 103s 3s/step - loss: 1.9252e-04 - accuracy: 0.0000e+00 - val_loss: 2.4239e-04 - val_accuracy: 0.0033\n",
      "Epoch 47/500\n",
      "30/30 [==============================] - 104s 3s/step - loss: 1.8208e-04 - accuracy: 0.0000e+00 - val_loss: 1.4002e-04 - val_accuracy: 0.0033\n",
      "Epoch 48/500\n",
      "30/30 [==============================] - 103s 3s/step - loss: 1.6561e-04 - accuracy: 0.0000e+00 - val_loss: 2.4999e-04 - val_accuracy: 0.0033\n",
      "Epoch 49/500\n",
      "30/30 [==============================] - 103s 3s/step - loss: 1.5230e-04 - accuracy: 0.0000e+00 - val_loss: 1.6012e-04 - val_accuracy: 0.0033\n",
      "Epoch 50/500\n",
      "30/30 [==============================] - 103s 3s/step - loss: 1.4707e-04 - accuracy: 0.0000e+00 - val_loss: 3.3413e-04 - val_accuracy: 0.0033\n",
      "Epoch 51/500\n",
      "30/30 [==============================] - 103s 3s/step - loss: 1.3335e-04 - accuracy: 0.0000e+00 - val_loss: 9.6447e-05 - val_accuracy: 0.0033\n",
      "Epoch 52/500\n",
      "30/30 [==============================] - 103s 3s/step - loss: 1.4920e-04 - accuracy: 0.0000e+00 - val_loss: 1.8641e-04 - val_accuracy: 0.0033\n",
      "Epoch 53/500\n",
      "30/30 [==============================] - 105s 3s/step - loss: 1.2158e-04 - accuracy: 0.0000e+00 - val_loss: 1.3238e-04 - val_accuracy: 0.0033\n",
      "Epoch 54/500\n",
      "30/30 [==============================] - 104s 3s/step - loss: 1.0700e-04 - accuracy: 0.0000e+00 - val_loss: 1.1674e-04 - val_accuracy: 0.0033\n",
      "Epoch 55/500\n",
      "30/30 [==============================] - 104s 3s/step - loss: 1.0737e-04 - accuracy: 0.0000e+00 - val_loss: 7.5536e-05 - val_accuracy: 0.0033\n",
      "Epoch 56/500\n",
      "30/30 [==============================] - 103s 3s/step - loss: 1.0162e-04 - accuracy: 0.0000e+00 - val_loss: 3.2401e-04 - val_accuracy: 0.0033\n",
      "Epoch 57/500\n",
      "30/30 [==============================] - 103s 3s/step - loss: 9.9229e-05 - accuracy: 0.0000e+00 - val_loss: 8.2157e-05 - val_accuracy: 0.0033\n",
      "Epoch 58/500\n",
      "30/30 [==============================] - 103s 3s/step - loss: 1.1032e-04 - accuracy: 0.0000e+00 - val_loss: 3.3555e-04 - val_accuracy: 0.0033\n",
      "Epoch 59/500\n",
      "30/30 [==============================] - 104s 3s/step - loss: 8.7756e-05 - accuracy: 0.0000e+00 - val_loss: 7.8165e-05 - val_accuracy: 0.0033\n",
      "Epoch 60/500\n",
      "30/30 [==============================] - 103s 3s/step - loss: 8.1206e-05 - accuracy: 0.0000e+00 - val_loss: 1.0322e-04 - val_accuracy: 0.0033\n",
      "Epoch 61/500\n",
      "30/30 [==============================] - 104s 3s/step - loss: 8.9341e-05 - accuracy: 0.0000e+00 - val_loss: 1.5769e-04 - val_accuracy: 0.0033\n",
      "Epoch 62/500\n",
      "30/30 [==============================] - 103s 3s/step - loss: 8.3498e-05 - accuracy: 0.0000e+00 - val_loss: 1.1421e-04 - val_accuracy: 0.0033\n",
      "Epoch 63/500\n",
      "30/30 [==============================] - 104s 3s/step - loss: 9.9274e-05 - accuracy: 0.0000e+00 - val_loss: 4.9392e-04 - val_accuracy: 0.0033\n",
      "Epoch 64/500\n",
      "30/30 [==============================] - 104s 3s/step - loss: 9.6676e-05 - accuracy: 0.0000e+00 - val_loss: 4.9421e-05 - val_accuracy: 0.0033\n",
      "Epoch 65/500\n",
      "30/30 [==============================] - 104s 3s/step - loss: 7.3113e-05 - accuracy: 0.0000e+00 - val_loss: 5.6503e-05 - val_accuracy: 0.0033\n",
      "Epoch 66/500\n",
      "30/30 [==============================] - 104s 3s/step - loss: 7.0012e-05 - accuracy: 0.0000e+00 - val_loss: 5.0149e-05 - val_accuracy: 0.0033\n",
      "Epoch 67/500\n",
      "30/30 [==============================] - 104s 3s/step - loss: 6.9918e-05 - accuracy: 0.0000e+00 - val_loss: 1.3596e-04 - val_accuracy: 0.0033\n",
      "Epoch 68/500\n",
      "30/30 [==============================] - 104s 3s/step - loss: 7.4825e-05 - accuracy: 0.0000e+00 - val_loss: 4.4441e-05 - val_accuracy: 0.0033\n",
      "Epoch 69/500\n",
      "30/30 [==============================] - 103s 3s/step - loss: 8.0509e-05 - accuracy: 0.0000e+00 - val_loss: 5.1802e-05 - val_accuracy: 0.0033\n",
      "Epoch 70/500\n",
      "30/30 [==============================] - 104s 3s/step - loss: 6.7770e-05 - accuracy: 0.0000e+00 - val_loss: 4.5318e-05 - val_accuracy: 0.0033\n",
      "Epoch 71/500\n",
      "30/30 [==============================] - 105s 4s/step - loss: 7.5374e-05 - accuracy: 0.0000e+00 - val_loss: 5.2756e-05 - val_accuracy: 0.0033\n",
      "Epoch 72/500\n",
      "30/30 [==============================] - 106s 4s/step - loss: 8.1378e-05 - accuracy: 0.0000e+00 - val_loss: 1.2628e-04 - val_accuracy: 0.0033\n",
      "Epoch 73/500\n",
      "30/30 [==============================] - 110s 4s/step - loss: 6.7746e-05 - accuracy: 0.0000e+00 - val_loss: 5.2703e-05 - val_accuracy: 0.0033\n",
      "Epoch 74/500\n",
      "30/30 [==============================] - 105s 4s/step - loss: 7.4032e-05 - accuracy: 0.0000e+00 - val_loss: 5.4931e-05 - val_accuracy: 0.0033\n",
      "Epoch 75/500\n",
      "30/30 [==============================] - 105s 4s/step - loss: 6.7210e-05 - accuracy: 0.0000e+00 - val_loss: 4.5266e-05 - val_accuracy: 0.0033\n",
      "Epoch 76/500\n",
      "30/30 [==============================] - 122s 4s/step - loss: 8.9205e-05 - accuracy: 0.0000e+00 - val_loss: 1.3373e-04 - val_accuracy: 0.0033\n",
      "Epoch 77/500\n",
      "30/30 [==============================] - 108s 4s/step - loss: 9.4279e-05 - accuracy: 0.0000e+00 - val_loss: 4.3434e-05 - val_accuracy: 0.0033\n",
      "Epoch 78/500\n",
      "30/30 [==============================] - 108s 4s/step - loss: 6.4448e-05 - accuracy: 0.0000e+00 - val_loss: 4.3716e-05 - val_accuracy: 0.0033\n",
      "Epoch 79/500\n",
      "30/30 [==============================] - 106s 4s/step - loss: 6.2186e-05 - accuracy: 0.0000e+00 - val_loss: 4.1331e-05 - val_accuracy: 0.0033\n",
      "Epoch 80/500\n",
      "30/30 [==============================] - 117s 4s/step - loss: 6.1225e-05 - accuracy: 0.0000e+00 - val_loss: 4.0237e-05 - val_accuracy: 0.0033\n",
      "Epoch 81/500\n",
      "30/30 [==============================] - 110s 4s/step - loss: 6.0559e-05 - accuracy: 0.0000e+00 - val_loss: 4.6921e-05 - val_accuracy: 0.0033\n",
      "Epoch 82/500\n",
      "30/30 [==============================] - 107s 4s/step - loss: 8.7588e-05 - accuracy: 0.0000e+00 - val_loss: 1.3395e-04 - val_accuracy: 0.0033\n",
      "Epoch 83/500\n",
      "30/30 [==============================] - 107s 4s/step - loss: 6.2455e-05 - accuracy: 0.0000e+00 - val_loss: 4.4508e-05 - val_accuracy: 0.0033\n",
      "Epoch 84/500\n",
      "30/30 [==============================] - 107s 4s/step - loss: 5.9935e-05 - accuracy: 0.0000e+00 - val_loss: 4.0834e-05 - val_accuracy: 0.0033\n",
      "Epoch 85/500\n",
      "30/30 [==============================] - 107s 4s/step - loss: 7.1960e-05 - accuracy: 0.0000e+00 - val_loss: 3.8244e-05 - val_accuracy: 0.0033\n",
      "Epoch 86/500\n",
      "30/30 [==============================] - 108s 4s/step - loss: 6.3233e-05 - accuracy: 0.0000e+00 - val_loss: 4.0415e-05 - val_accuracy: 0.0033\n",
      "Epoch 87/500\n",
      "30/30 [==============================] - 106s 4s/step - loss: 6.2375e-05 - accuracy: 0.0000e+00 - val_loss: 4.9196e-05 - val_accuracy: 0.0033\n",
      "Epoch 88/500\n",
      "30/30 [==============================] - 107s 4s/step - loss: 7.5750e-05 - accuracy: 0.0000e+00 - val_loss: 4.2754e-05 - val_accuracy: 0.0033\n",
      "Epoch 89/500\n",
      "30/30 [==============================] - 109s 4s/step - loss: 6.1892e-05 - accuracy: 0.0000e+00 - val_loss: 4.3381e-05 - val_accuracy: 0.0033\n",
      "Epoch 90/500\n",
      "30/30 [==============================] - 110s 4s/step - loss: 7.3704e-05 - accuracy: 0.0000e+00 - val_loss: 1.8611e-04 - val_accuracy: 0.0033\n",
      "Epoch 91/500\n",
      "30/30 [==============================] - 103s 3s/step - loss: 6.4438e-05 - accuracy: 0.0000e+00 - val_loss: 4.1953e-05 - val_accuracy: 0.0033\n",
      "Epoch 92/500\n",
      "30/30 [==============================] - 104s 3s/step - loss: 6.1009e-05 - accuracy: 0.0000e+00 - val_loss: 4.5301e-05 - val_accuracy: 0.0033\n",
      "Epoch 93/500\n",
      "30/30 [==============================] - 104s 3s/step - loss: 8.0565e-05 - accuracy: 0.0000e+00 - val_loss: 4.4004e-05 - val_accuracy: 0.0033\n",
      "Epoch 94/500\n",
      "30/30 [==============================] - 104s 3s/step - loss: 6.0542e-05 - accuracy: 0.0000e+00 - val_loss: 4.2628e-05 - val_accuracy: 0.0033\n",
      "Epoch 95/500\n",
      "30/30 [==============================] - 104s 3s/step - loss: 5.7526e-05 - accuracy: 0.0000e+00 - val_loss: 4.0176e-05 - val_accuracy: 0.0033\n"
     ]
    }
   ],
   "source": [
    "early_stop = keras.callbacks.EarlyStopping(monitor='val_loss', patience=10)\n",
    "\n",
    "history = univariate_ts_model.fit(x=train_univariate,\n",
    "                                  epochs=EPOCHS, \n",
    "                                  verbose=1, \n",
    "                                  callbacks=[early_stop],\n",
    "                                  validation_split=0.0, \n",
    "                                  validation_data=val_univariate, \n",
    "                                  shuffle=True, \n",
    "                                  class_weight=None, \n",
    "                                  sample_weight=None, \n",
    "                                  initial_epoch=0,\n",
    "                                  steps_per_epoch=EVALUATION_INTERVAL, \n",
    "                                  validation_steps=VALIDATION_STEPS)"
   ]
  },
  {
   "cell_type": "code",
   "execution_count": 29,
   "metadata": {},
   "outputs": [],
   "source": [
    "def plot_train_history(history, title):\n",
    "    loss = history.history['loss']\n",
    "    val_loss = history.history['val_loss']\n",
    "\n",
    "    epochs = range(len(loss))\n",
    "\n",
    "    plt.figure(figsize=(16,8))\n",
    "\n",
    "    plt.title(title)\n",
    "    plt.ylabel('Loss')\n",
    "    plt.xlabel('Epoch')\n",
    "    plt.plot(epochs, loss, 'b', label='Training loss')\n",
    "    plt.plot(epochs, val_loss, 'r', label='Validation loss')\n",
    "    plt.legend(['Training loss', 'Validation loss'], loc='upper right')\n",
    "    plt.show()"
   ]
  },
  {
   "cell_type": "code",
   "execution_count": 30,
   "metadata": {},
   "outputs": [
    {
     "data": {
      "image/png": "[encoded data removed]",
      "text/plain": [
       "<Figure size 1152x576 with 1 Axes>"
      ]
     },
     "metadata": {},
     "output_type": "display_data"
    }
   ],
   "source": [
    "plot_train_history(history, 'Single Step Training and validation loss')"
   ]
  },
  {
   "cell_type": "markdown",
   "metadata": {},
   "source": [
    "### Values prediction"
   ]
  },
  {
   "cell_type": "code",
   "execution_count": 31,
   "metadata": {
    "scrolled": true
   },
   "outputs": [
    {
     "name": "stdout",
     "output_type": "stream",
     "text": [
      "(305, 1)\n"
     ]
    }
   ],
   "source": [
    "for x, y in val_univariate.take(1):\n",
    "    uni_prediction = univariate_ts_model.predict(x)\n",
    "    print(uni_prediction.shape)"
   ]
  },
  {
   "cell_type": "markdown",
   "metadata": {},
   "source": [
    "### Data denormalization"
   ]
  },
  {
   "cell_type": "markdown",
   "metadata": {},
   "source": [
    "#### Invert difference"
   ]
  },
  {
   "cell_type": "code",
   "execution_count": 32,
   "metadata": {},
   "outputs": [],
   "source": [
    "inverted_prediction = transformer.inverse_transform(uni_prediction)\n",
    "inverted_validation = transformer.inverse_transform(y_val_uni)\n",
    "\n",
    "inverted_prediction_flat = inverted_prediction.flatten()\n",
    "inverted_validation_flat = inverted_validation.flatten()"
   ]
  },
  {
   "cell_type": "code",
   "execution_count": 33,
   "metadata": {
    "scrolled": false
   },
   "outputs": [
    {
     "data": {
      "image/png": "[encoded data removed]",
      "text/plain": [
       "<Figure size 1152x576 with 1 Axes>"
      ]
     },
     "metadata": {},
     "output_type": "display_data"
    }
   ],
   "source": [
    "train = univariate_dataframe[:TRAIN_SPLIT]\n",
    "valid = univariate_dataframe[TRAIN_SPLIT:]\n",
    "validation = inverted_validation_flat\n",
    "prediction = inverted_prediction_flat\n",
    "\n",
    "plt.figure(figsize=(16,8))\n",
    "plt.title('Prediction accuracy')\n",
    "plt.xlabel('Date', fontsize=18)\n",
    "plt.ylabel('Price USD (AR$)', fontsize=18)\n",
    "\n",
    "plt.plot(validation, c=\"green\", alpha=0.7)\n",
    "plt.plot(prediction, c=\"orange\", alpha=0.7)\n",
    "\n",
    "plt.legend(['Valid', 'Predictions'], loc='upper left')\n",
    "plt.show()"
   ]
  },
  {
   "cell_type": "markdown",
   "metadata": {},
   "source": [
    "## Save the model and training weights"
   ]
  },
  {
   "cell_type": "markdown",
   "metadata": {},
   "source": [
    "#### Serialize model to JSON"
   ]
  },
  {
   "cell_type": "code",
   "execution_count": 34,
   "metadata": {},
   "outputs": [],
   "source": [
    "model_json = univariate_ts_model.to_json()\n",
    "with open(\"time_distributed_lstm_model_json.json\", \"w\") as json_file:\n",
    "    json_file.write(model_json)"
   ]
  },
  {
   "cell_type": "markdown",
   "metadata": {},
   "source": [
    "#### Serialize weights to HDF5"
   ]
  },
  {
   "cell_type": "code",
   "execution_count": 35,
   "metadata": {},
   "outputs": [
    {
     "name": "stdout",
     "output_type": "stream",
     "text": [
      "Saved model to disk\n"
     ]
    }
   ],
   "source": [
    "univariate_ts_model.save_weights(\"time_distributed_lstm_model_weights.h5\")\n",
    "print(\"Saved model to disk\")"
   ]
  },
  {
   "cell_type": "markdown",
   "metadata": {},
   "source": [
    "#### Or we can save the model and architecture into a single file"
   ]
  },
  {
   "cell_type": "code",
   "execution_count": 36,
   "metadata": {},
   "outputs": [
    {
     "name": "stdout",
     "output_type": "stream",
     "text": [
      "Saved model to disk\n"
     ]
    }
   ],
   "source": [
    "univariate_ts_model.save(\"time_distributed_lstm_model_complete.h5\")\n",
    "print(\"Saved model to disk\")"
   ]
  },
  {
   "cell_type": "markdown",
   "metadata": {},
   "source": [
    "## Trying to predict unknown data to the model"
   ]
  },
  {
   "cell_type": "markdown",
   "metadata": {},
   "source": [
    "For validation purposes we will be using other data with similar distribution of the training dataset."
   ]
  },
  {
   "cell_type": "code",
   "execution_count": 37,
   "metadata": {},
   "outputs": [
    {
     "name": "stdout",
     "output_type": "stream",
     "text": [
      "(6724,)\n"
     ]
    }
   ],
   "source": [
    "new_univariate_dataframe = multivariate_dataframe['futuro_rofex_usd4m']\n",
    "print(univariate_dataframe.shape)"
   ]
  },
  {
   "cell_type": "code",
   "execution_count": 38,
   "metadata": {
    "scrolled": false
   },
   "outputs": [
    {
     "data": {
      "text/plain": [
       "array([<matplotlib.axes._subplots.AxesSubplot object at 0x0000017001206D48>],\n",
       "      dtype=object)"
      ]
     },
     "execution_count": 38,
     "metadata": {},
     "output_type": "execute_result"
    },
    {
     "data": {
      "image/png": "[encoded data removed]",
      "text/plain": [
       "<Figure size 1152x576 with 1 Axes>"
      ]
     },
     "metadata": {},
     "output_type": "display_data"
    }
   ],
   "source": [
    "plt.figure(figsize=(16,8))\n",
    "plt.title('Price History')\n",
    "plt.xlabel('Date', fontsize=18)\n",
    "plt.ylabel('Price USD (AR$)', fontsize=18)\n",
    "\n",
    "new_univariate_dataframe.plot(subplots=True)"
   ]
  },
  {
   "cell_type": "code",
   "execution_count": 39,
   "metadata": {},
   "outputs": [],
   "source": [
    "new_univariate_dataset = new_univariate_dataframe.values"
   ]
  },
  {
   "cell_type": "code",
   "execution_count": 40,
   "metadata": {},
   "outputs": [
    {
     "data": {
      "text/plain": [
       "(6724,)"
      ]
     },
     "execution_count": 40,
     "metadata": {},
     "output_type": "execute_result"
    }
   ],
   "source": [
    "new_univariate_dataset.shape"
   ]
  },
  {
   "cell_type": "markdown",
   "metadata": {},
   "source": [
    "This time we will use the entire dataser without spliting into train and validation"
   ]
  },
  {
   "cell_type": "code",
   "execution_count": 41,
   "metadata": {},
   "outputs": [],
   "source": [
    "pred_x_uni, pred_y_uni = univariate_data(new_univariate_dataset, 0, None, univariate_past_history, univariate_future_target)"
   ]
  },
  {
   "cell_type": "code",
   "execution_count": 42,
   "metadata": {},
   "outputs": [],
   "source": [
    "pred_x_uni = tf.expand_dims(pred_x_uni, 2)"
   ]
  },
  {
   "cell_type": "code",
   "execution_count": 43,
   "metadata": {},
   "outputs": [
    {
     "data": {
      "text/plain": [
       "TensorShape([6693, 30, 1, 1])"
      ]
     },
     "execution_count": 43,
     "metadata": {},
     "output_type": "execute_result"
    }
   ],
   "source": [
    "pred_x_uni.shape"
   ]
  },
  {
   "cell_type": "markdown",
   "metadata": {},
   "source": [
    "Preparation of the tensor to predict"
   ]
  },
  {
   "cell_type": "code",
   "execution_count": 44,
   "metadata": {},
   "outputs": [
    {
     "data": {
      "text/plain": [
       "(TensorShape([None, 30, 1, 1]), TensorShape([None, 1]))"
      ]
     },
     "execution_count": 44,
     "metadata": {},
     "output_type": "execute_result"
    }
   ],
   "source": [
    "pred_univariate = tf.data.Dataset.from_tensor_slices((pred_x_uni, pred_y_uni))\n",
    "pred_univariate = pred_univariate.batch(7000).repeat()\n",
    "\n",
    "tf.compat.v1.data.get_output_shapes(val_univariate)"
   ]
  },
  {
   "cell_type": "markdown",
   "metadata": {},
   "source": [
    "Prediction process:"
   ]
  },
  {
   "cell_type": "code",
   "execution_count": 45,
   "metadata": {
    "scrolled": true
   },
   "outputs": [
    {
     "name": "stdout",
     "output_type": "stream",
     "text": [
      "(305,)\n"
     ]
    }
   ],
   "source": [
    "for x, y in pred_univariate.take(1):\n",
    "    new_prediction = univariate_ts_model.predict(x)\n",
    "    print(prediction.shape)"
   ]
  },
  {
   "cell_type": "code",
   "execution_count": 46,
   "metadata": {
    "scrolled": false
   },
   "outputs": [
    {
     "data": {
      "image/png": "[encoded data removed]",
      "text/plain": [
       "<Figure size 1152x576 with 1 Axes>"
      ]
     },
     "metadata": {},
     "output_type": "display_data"
    }
   ],
   "source": [
    "plt.figure(figsize=(16,8))\n",
    "plt.title('New Prediction accuracy')\n",
    "plt.xlabel('Date', fontsize=18)\n",
    "plt.ylabel('Price USD (AR$)', fontsize=18)\n",
    "\n",
    "plt.plot(pred_y_uni, c=\"blue\", alpha=0.6)\n",
    "plt.plot(new_prediction, c=\"orange\", alpha=0.6)\n",
    "\n",
    "plt.legend(['Valid', 'Predictions'], loc='upper left')\n",
    "plt.show()"
   ]
  },
  {
   "cell_type": "markdown",
   "metadata": {},
   "source": [
    "##### Thoughts:\n",
    "\n",
    "To conclude, it can be seen that the trained model respects the trend of the data in the predictions but as time advances, the predictions attenuate. \n",
    "This may be due to penalties set to avoid over-specialization of the model when making predictions.\n",
    "For future improvements, it will evaluate to adjust the penalty of the weights, which may be high.\n",
    "I will also use various data to verify that the model can generalize its learning and is not specialized in a single data set."
   ]
  },
  {
   "cell_type": "code",
   "execution_count": null,
   "metadata": {},
   "outputs": [],
   "source": []
  }
 ],
 "metadata": {
  "kernelspec": {
   "display_name": "Python 3",
   "language": "python",
   "name": "python3"
  },
  "language_info": {
   "codemirror_mode": {
    "name": "ipython",
    "version": 3
   },
   "file_extension": ".py",
   "mimetype": "text/x-python",
   "name": "python",
   "nbconvert_exporter": "python",
   "pygments_lexer": "ipython3",
   "version": "3.7.7"
  }
 },
 "nbformat": 4,
 "nbformat_minor": 2
}
